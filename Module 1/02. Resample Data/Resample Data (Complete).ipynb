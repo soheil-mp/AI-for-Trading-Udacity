{
 "cells": [
  {
   "cell_type": "markdown",
   "metadata": {},
   "source": [
    "# Resample Data\n",
    "## Pandas Resample\n",
    "You've learned about bucketing to different periods of time like Months. Let's see how it's done. We'll start with an example series of days."
   ]
  },
  {
   "cell_type": "code",
   "execution_count": 1,
   "metadata": {},
   "outputs": [],
   "source": [
    "# Import the libraries\n",
    "import numpy as np\n",
    "import pandas as pd"
   ]
  },
  {
   "cell_type": "code",
   "execution_count": 2,
   "metadata": {},
   "outputs": [
    {
     "data": {
      "text/plain": "DatetimeIndex(['2018-10-10', '2018-10-11', '2018-10-12', '2018-10-13',\n               '2018-10-14', '2018-10-15', '2018-10-16', '2018-10-17',\n               '2018-10-18', '2018-10-19', '2018-10-20'],\n              dtype='datetime64[ns]', freq='D')"
     },
     "execution_count": 2,
     "metadata": {},
     "output_type": "execute_result"
    }
   ],
   "source": [
    "# Arange 11 days starting from 10/10/2018\n",
    "dates = pd.date_range(start = '10/10/2018', periods = 11, freq = 'D')\n",
    "dates"
   ]
  },
  {
   "cell_type": "code",
   "execution_count": 3,
   "metadata": {},
   "outputs": [
    {
     "data": {
      "text/plain": "array([ 0,  1,  2,  3,  4,  5,  6,  7,  8,  9, 10])"
     },
     "execution_count": 3,
     "metadata": {},
     "output_type": "execute_result"
    }
   ],
   "source": [
    "# Arange numbers from 0 to length of dates\n",
    "close_prices = np.arange(len(dates))\n",
    "close_prices"
   ]
  },
  {
   "cell_type": "code",
   "execution_count": 4,
   "metadata": {},
   "outputs": [
    {
     "data": {
      "text/plain": "2018-10-10     0\n2018-10-11     1\n2018-10-12     2\n2018-10-13     3\n2018-10-14     4\n2018-10-15     5\n2018-10-16     6\n2018-10-17     7\n2018-10-18     8\n2018-10-19     9\n2018-10-20    10\nFreq: D, dtype: int64"
     },
     "execution_count": 4,
     "metadata": {},
     "output_type": "execute_result"
    }
   ],
   "source": [
    "# Set close_prices as data in a series + Set dates as index \n",
    "close = pd.Series(data = close_prices, index = dates)\n",
    "close"
   ]
  },
  {
   "cell_type": "markdown",
   "metadata": {},
   "source": [
    "Let's say we want to bucket these days into 3 day periods. To do that, we'll use the [DataFrame.resample](https://pandas.pydata.org/pandas-docs/version/0.21/generated/pandas.DataFrame.resample.html) function. The first parameter in this function is a string called `rule`, which is a representation of how to resample the data. This string representation is made using an offset alias. You can find a list of them [here](http://pandas.pydata.org/pandas-docs/stable/timeseries.html#offset-aliases). To create 3 day periods, we'll set `rule` to \"3D\"."
   ]
  },
  {
   "cell_type": "code",
   "execution_count": 5,
   "metadata": {},
   "outputs": [
    {
     "data": {
      "text/plain": "<pandas.core.resample.DatetimeIndexResampler object at 0x10dad1710>"
     },
     "execution_count": 5,
     "metadata": {},
     "output_type": "execute_result"
    }
   ],
   "source": [
    "# Resample 3 days (returns DatetimeIndexResampler object)\n",
    "close.resample(rule = '3D')"
   ]
  },
  {
   "cell_type": "markdown",
   "metadata": {},
   "source": [
    "This returns a `DatetimeIndexResampler` object. It's an intermediate object similar to the `GroupBy` object. Just like group by, it breaks the original data into groups. That means, we'll have to apply an operation to these groups. Let's make it simple and get the first element from each group."
   ]
  },
  {
   "cell_type": "code",
   "execution_count": 8,
   "metadata": {},
   "outputs": [
    {
     "data": {
      "text/plain": "2018-10-10    0\n2018-10-13    3\n2018-10-16    6\n2018-10-19    9\nFreq: 3D, dtype: int64"
     },
     "execution_count": 8,
     "metadata": {},
     "output_type": "execute_result"
    }
   ],
   "source": [
    "# Resample 3 days + Get the first element from each group\n",
    "close.resample(rule = '3D').first()     "
   ]
  },
  {
   "cell_type": "code",
   "execution_count": 9,
   "metadata": {},
   "outputs": [],
   "source": [
    "# Other operations\n",
    "#close.resample(rule = '3D').last()     \n",
    "#close.resample(rule = '3D').max()     \n",
    "#close.resample(rule = '3D').min()     "
   ]
  },
  {
   "cell_type": "markdown",
   "metadata": {},
   "source": [
    "You might notice that this is the same as `.iloc[::3]`"
   ]
  },
  {
   "cell_type": "code",
   "execution_count": 10,
   "metadata": {},
   "outputs": [
    {
     "data": {
      "text/plain": "2018-10-10    0\n2018-10-13    3\n2018-10-16    6\n2018-10-19    9\nFreq: 3D, dtype: int64"
     },
     "execution_count": 10,
     "metadata": {},
     "output_type": "execute_result"
    }
   ],
   "source": [
    "# Get every 3 rows\n",
    "close.iloc[::3]"
   ]
  },
  {
   "cell_type": "markdown",
   "metadata": {},
   "source": [
    "So, why use the `resample` function instead of `.iloc[::3]` or the `groupby` function?\n",
    "\n",
    "The `resample` function shines when handling time and/or date specific tasks. In fact, you can't use this function if the index isn't a [time-related class](https://pandas.pydata.org/pandas-docs/version/0.21/timeseries.html#overview)."
   ]
  },
  {
   "cell_type": "code",
   "execution_count": 11,
   "metadata": {},
   "outputs": [
    {
     "name": "stdout",
     "output_type": "stream",
     "text": "It threw a TypeError.\n"
    }
   ],
   "source": [
    "### Why choose \"resample\" function instead of \"iloc\"\n",
    "\n",
    "# Try the following code\n",
    "try:\n",
    "    \n",
    "    # Resample a series without a time index\n",
    "    pd.Series(data = close_prices).resample(rule = 'W')\n",
    "    \n",
    "# If the code gives an error\n",
    "except TypeError:\n",
    "    \n",
    "    # Report\n",
    "    print('It threw a TypeError.')\n",
    "    \n",
    "# If the code works\n",
    "else:\n",
    "    \n",
    "    # Report\n",
    "    print('It worked.')"
   ]
  },
  {
   "cell_type": "markdown",
   "metadata": {},
   "source": [
    "One of the resampling tasks it can help with is resampling on periods, like weeks. Let's resample `close` from it's days frequency to weeks. We'll use the \"W\" offset allies, which stands for Weeks."
   ]
  },
  {
   "cell_type": "code",
   "execution_count": 12,
   "metadata": {},
   "outputs": [
    {
     "data": {
      "text/html": "<div>\n<style scoped>\n    .dataframe tbody tr th:only-of-type {\n        vertical-align: middle;\n    }\n\n    .dataframe tbody tr th {\n        vertical-align: top;\n    }\n\n    .dataframe thead th {\n        text-align: right;\n    }\n</style>\n<table border=\"1\" class=\"dataframe\">\n  <thead>\n    <tr style=\"text-align: right;\">\n      <th></th>\n      <th>days</th>\n      <th>weeks</th>\n    </tr>\n  </thead>\n  <tbody>\n    <tr>\n      <th>2018-10-10</th>\n      <td>0.0</td>\n      <td>NaN</td>\n    </tr>\n    <tr>\n      <th>2018-10-11</th>\n      <td>1.0</td>\n      <td>NaN</td>\n    </tr>\n    <tr>\n      <th>2018-10-12</th>\n      <td>2.0</td>\n      <td>NaN</td>\n    </tr>\n    <tr>\n      <th>2018-10-13</th>\n      <td>3.0</td>\n      <td>NaN</td>\n    </tr>\n    <tr>\n      <th>2018-10-14</th>\n      <td>4.0</td>\n      <td>0.0</td>\n    </tr>\n    <tr>\n      <th>2018-10-15</th>\n      <td>5.0</td>\n      <td>NaN</td>\n    </tr>\n    <tr>\n      <th>2018-10-16</th>\n      <td>6.0</td>\n      <td>NaN</td>\n    </tr>\n    <tr>\n      <th>2018-10-17</th>\n      <td>7.0</td>\n      <td>NaN</td>\n    </tr>\n    <tr>\n      <th>2018-10-18</th>\n      <td>8.0</td>\n      <td>NaN</td>\n    </tr>\n    <tr>\n      <th>2018-10-19</th>\n      <td>9.0</td>\n      <td>NaN</td>\n    </tr>\n    <tr>\n      <th>2018-10-20</th>\n      <td>10.0</td>\n      <td>NaN</td>\n    </tr>\n    <tr>\n      <th>2018-10-21</th>\n      <td>NaN</td>\n      <td>5.0</td>\n    </tr>\n  </tbody>\n</table>\n</div>",
      "text/plain": "            days  weeks\n2018-10-10   0.0    NaN\n2018-10-11   1.0    NaN\n2018-10-12   2.0    NaN\n2018-10-13   3.0    NaN\n2018-10-14   4.0    0.0\n2018-10-15   5.0    NaN\n2018-10-16   6.0    NaN\n2018-10-17   7.0    NaN\n2018-10-18   8.0    NaN\n2018-10-19   9.0    NaN\n2018-10-20  10.0    NaN\n2018-10-21   NaN    5.0"
     },
     "execution_count": 12,
     "metadata": {},
     "output_type": "execute_result"
    }
   ],
   "source": [
    "# Resample \"close\" from its days frequency to weeks\n",
    "pd.DataFrame({'days': close, 'weeks': close.resample(rule = 'W').first()})"
   ]
  },
  {
   "cell_type": "markdown",
   "metadata": {},
   "source": [
    "The weeks offset considers the start of a week on a Monday. Since 2018-10-10 is a Wednesday, the first group only looks at the first 5 items. There are offsets that handle more complicated problems like filtering for Holidays. For now, we'll only worry about resampling for days, weeks, months, quarters, and years. The frequency you want the data to be in, will depend on how often you'll be trading. If you're making trade decisions based on reports that come out at the end of the year, we might only care about a frequency of years or months.\n",
    "## OHLC\n",
    "Now that you've seen how Pandas resamples time series data, we can apply this to Open, High, Low, and Close (OHLC). Pandas provides the [`Resampler.ohlc`](https://pandas.pydata.org/pandas-docs/version/0.21.0/generated/pandas.core.resample.Resampler.ohlc.html#pandas.core.resample.Resampler.ohlc) function will convert any resampling frequency to OHLC data. Let's get the Weekly OHLC."
   ]
  },
  {
   "cell_type": "code",
   "execution_count": 13,
   "metadata": {},
   "outputs": [
    {
     "data": {
      "text/html": "<div>\n<style scoped>\n    .dataframe tbody tr th:only-of-type {\n        vertical-align: middle;\n    }\n\n    .dataframe tbody tr th {\n        vertical-align: top;\n    }\n\n    .dataframe thead th {\n        text-align: right;\n    }\n</style>\n<table border=\"1\" class=\"dataframe\">\n  <thead>\n    <tr style=\"text-align: right;\">\n      <th></th>\n      <th>open</th>\n      <th>high</th>\n      <th>low</th>\n      <th>close</th>\n    </tr>\n  </thead>\n  <tbody>\n    <tr>\n      <th>2018-10-14</th>\n      <td>0</td>\n      <td>4</td>\n      <td>0</td>\n      <td>4</td>\n    </tr>\n    <tr>\n      <th>2018-10-21</th>\n      <td>5</td>\n      <td>10</td>\n      <td>5</td>\n      <td>10</td>\n    </tr>\n  </tbody>\n</table>\n</div>",
      "text/plain": "            open  high  low  close\n2018-10-14     0     4    0      4\n2018-10-21     5    10    5     10"
     },
     "execution_count": 13,
     "metadata": {},
     "output_type": "execute_result"
    }
   ],
   "source": [
    "# Resample the dataset into OHLC format for every week\n",
    "close.resample(rule = 'W').ohlc()"
   ]
  },
  {
   "cell_type": "markdown",
   "metadata": {},
   "source": [
    "Can you spot a potential problem with that? It has to do with resampling data that has already been resampled.\n",
    "\n",
    "We're getting the OHLC from close data. If we want OHLC data from already resampled data, we should resample the first price from the open data, resample the highest price from the high data, etc..\n",
    "\n",
    "To get the weekly closing prices from `close`, you can use the [`Resampler.last`](https://pandas.pydata.org/pandas-docs/version/0.21.0/generated/pandas.core.resample.Resampler.last.html#pandas.core.resample.Resampler.last) function."
   ]
  },
  {
   "cell_type": "code",
   "execution_count": 14,
   "metadata": {},
   "outputs": [
    {
     "data": {
      "text/plain": "2018-10-14     4\n2018-10-21    10\nFreq: W-SUN, dtype: int64"
     },
     "execution_count": 14,
     "metadata": {},
     "output_type": "execute_result"
    }
   ],
   "source": [
    "# Get the weekly closing price\n",
    "close.resample(rule = 'W').last()"
   ]
  },
  {
   "cell_type": "markdown",
   "metadata": {},
   "source": [
    "## Quiz\n",
    "Implement `days_to_weeks` function to resample OHLC price data to weekly OHLC price data. You find find more Resampler functions [here](https://pandas.pydata.org/pandas-docs/version/0.21.0/api.html#id44) for calculating high and low prices."
   ]
  },
  {
   "cell_type": "code",
   "execution_count": 15,
   "metadata": {},
   "outputs": [],
   "source": [
    "# Import the quiz test library\n",
    "import quiz_tests"
   ]
  },
  {
   "cell_type": "code",
   "execution_count": 16,
   "metadata": {},
   "outputs": [
    {
     "name": "stdout",
     "output_type": "stream",
     "text": "Tests Passed\n"
    }
   ],
   "source": [
    "# Convert daily OHLC prices to weekly one\n",
    "def days_to_weeks(open_prices, high_prices, low_prices, close_prices):\n",
    "    \"\"\"\n",
    "    Converts daily OHLC prices to weekly OHLC prices.\n",
    "    \n",
    "    Parameters\n",
    "    ----------\n",
    "    open_prices : DataFrame\n",
    "        Daily open prices for each ticker and date\n",
    "    high_prices : DataFrame\n",
    "        Daily high prices for each ticker and date\n",
    "    low_prices : DataFrame\n",
    "        Daily low prices for each ticker and date\n",
    "    close_prices : DataFrame\n",
    "        Daily close prices for each ticker and date\n",
    "\n",
    "    Returns\n",
    "    -------\n",
    "    open_prices_weekly : DataFrame\n",
    "        Weekly open prices for each ticker and date\n",
    "    high_prices_weekly : DataFrame\n",
    "        Weekly high prices for each ticker and date\n",
    "    low_prices_weekly : DataFrame\n",
    "        Weekly low prices for each ticker and date\n",
    "    close_prices_weekly : DataFrame\n",
    "        Weekly close prices for each ticker and date\n",
    "    \"\"\"\n",
    "    # Resample to weekly + Get the first values\n",
    "    open_prices_weekly = open_prices.resample(rule = 'W').first()\n",
    "    \n",
    "    # Resample to weekly + Get the maximum values\n",
    "    high_prices_weekly = high_prices.resample(rule = 'W').max()\n",
    "    \n",
    "    # Resample to weekly + Get the minimum values\n",
    "    low_prices_weekly = low_prices.resample(rule = 'W').min()\n",
    "    \n",
    "    # Resample to weekly + Get the last values\n",
    "    close_prices_weekly = close_prices.resample(rule = 'W').last()\n",
    "    \n",
    "    return open_prices_weekly, high_prices_weekly, low_prices_weekly, close_prices_weekly\n",
    "\n",
    "\n",
    "quiz_tests.test_days_to_weeks(days_to_weeks)"
   ]
  },
  {
   "cell_type": "markdown",
   "metadata": {},
   "source": [
    "## The End!"
   ]
  }
 ],
 "metadata": {
  "kernelspec": {
   "display_name": "Python 3",
   "language": "python",
   "name": "python3"
  },
  "language_info": {
   "codemirror_mode": {
    "name": "ipython",
    "version": 3
   },
   "file_extension": ".py",
   "mimetype": "text/x-python",
   "name": "python",
   "nbconvert_exporter": "python",
   "pygments_lexer": "ipython3",
   "version": "3.7.7-final"
  }
 },
 "nbformat": 4,
 "nbformat_minor": 2
}